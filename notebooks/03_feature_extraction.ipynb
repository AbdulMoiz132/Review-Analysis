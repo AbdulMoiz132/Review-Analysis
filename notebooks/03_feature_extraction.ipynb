{
 "cells": [
  {
   "cell_type": "markdown",
   "id": "c4fcbdc3",
   "metadata": {},
   "source": [
    "# Feature Extraction with TF-IDF Vectorization\n",
    "\n",
    "This notebook covers feature extraction from preprocessed text:\n",
    "- Loading preprocessed data\n",
    "- Converting text to numerical features using TF-IDF\n",
    "- Exploring the feature matrix\n",
    "- Preparing data for machine learning models"
   ]
  },
  {
   "cell_type": "markdown",
   "id": "ad21d729",
   "metadata": {},
   "source": [
    "## Import Required Libraries"
   ]
  },
  {
   "cell_type": "code",
   "execution_count": null,
   "id": "5357663e",
   "metadata": {},
   "outputs": [],
   "source": [
    "# Import essential libraries\n",
    "import pandas as pd\n",
    "import numpy as np\n",
    "import matplotlib.pyplot as plt\n",
    "import seaborn as sns\n",
    "\n",
    "# Machine learning libraries\n",
    "from sklearn.feature_extraction.text import TfidfVectorizer, CountVectorizer\n",
    "from sklearn.model_selection import train_test_split\n",
    "from sklearn.metrics import classification_report, confusion_matrix, accuracy_score\n",
    "\n",
    "# Set random seed for reproducibility\n",
    "np.random.seed(42)\n",
    "\n",
    "# Set plot style\n",
    "plt.style.use('default')\n",
    "sns.set_palette(\"husl\")\n",
    "\n",
    "print(\"Libraries imported successfully!\")"
   ]
  },
  {
   "cell_type": "markdown",
   "id": "73f3f390",
   "metadata": {},
   "source": [
    "## Load Preprocessed Data"
   ]
  },
  {
   "cell_type": "code",
   "execution_count": null,
   "id": "4deadace",
   "metadata": {},
   "outputs": [],
   "source": [
    "# Load the preprocessed dataset\n",
    "df = pd.read_csv('../data/preprocessed_reviews.csv')\n",
    "\n",
    "print(f\"Dataset loaded successfully!\")\n",
    "print(f\"Shape: {df.shape}\")\n",
    "print(f\"Columns: {df.columns.tolist()}\")\n",
    "print(f\"\\nFirst few rows:\")\n",
    "df.head()"
   ]
  },
  {
   "cell_type": "code",
   "execution_count": null,
   "id": "2097537e",
   "metadata": {},
   "outputs": [],
   "source": [
    "# Check data quality\n",
    "print(\"Data Quality Check:\")\n",
    "print(f\"Missing values: {df.isnull().sum().sum()}\")\n",
    "print(f\"Sentiment distribution:\")\n",
    "print(df['sentiment'].value_counts())\n",
    "print(f\"\\nSample of cleaned reviews:\")\n",
    "for i in range(3):\n",
    "    print(f\"{i+1}. {df.iloc[i]['cleaned_review']} (Sentiment: {df.iloc[i]['sentiment']})\")"
   ]
  },
  {
   "cell_type": "markdown",
   "id": "280cbbe5",
   "metadata": {},
   "source": [
    "## TF-IDF Vectorization\n",
    "\n",
    "Convert text data to numerical features using Term Frequency-Inverse Document Frequency (TF-IDF)."
   ]
  },
  {
   "cell_type": "code",
   "execution_count": null,
   "id": "4515f096",
   "metadata": {},
   "outputs": [],
   "source": [
    "# Initialize TF-IDF vectorizer\n",
    "tfidf_vectorizer = TfidfVectorizer(\n",
    "    max_features=1000,        # Limit to top 1000 features\n",
    "    min_df=2,                 # Ignore terms that appear in less than 2 documents\n",
    "    max_df=0.8,               # Ignore terms that appear in more than 80% of documents\n",
    "    ngram_range=(1, 2),       # Use unigrams and bigrams\n",
    "    lowercase=True            # Convert to lowercase (already done in preprocessing)\n",
    ")\n",
    "\n",
    "print(\"TF-IDF Vectorizer initialized with parameters:\")\n",
    "print(f\"- Max features: 1000\")\n",
    "print(f\"- Min document frequency: 2\")\n",
    "print(f\"- Max document frequency: 0.8\")\n",
    "print(f\"- N-gram range: (1, 2)\")"
   ]
  },
  {
   "cell_type": "code",
   "execution_count": null,
   "id": "9181587a",
   "metadata": {},
   "outputs": [],
   "source": [
    "# Fit and transform the cleaned text data\n",
    "print(\"Applying TF-IDF vectorization...\")\n",
    "\n",
    "# Use cleaned_review column for feature extraction\n",
    "X_tfidf = tfidf_vectorizer.fit_transform(df['cleaned_review'])\n",
    "y = df['sentiment'].values\n",
    "\n",
    "print(f\"✓ TF-IDF matrix shape: {X_tfidf.shape}\")\n",
    "print(f\"✓ Number of features: {X_tfidf.shape[1]}\")\n",
    "print(f\"✓ Number of samples: {X_tfidf.shape[0]}\")\n",
    "print(f\"✓ Target variable shape: {y.shape}\")\n",
    "print(f\"✓ Matrix sparsity: {1 - (X_tfidf.nnz / (X_tfidf.shape[0] * X_tfidf.shape[1])):.3f}\")"
   ]
  },
  {
   "cell_type": "markdown",
   "id": "71d324c7",
   "metadata": {},
   "source": [
    "## Explore Feature Matrix"
   ]
  },
  {
   "cell_type": "code",
   "execution_count": null,
   "id": "38937f9e",
   "metadata": {},
   "outputs": [],
   "source": [
    "# Get feature names\n",
    "feature_names = tfidf_vectorizer.get_feature_names_out()\n",
    "\n",
    "print(f\"Feature vocabulary size: {len(feature_names)}\")\n",
    "print(f\"\\nSample features (first 20):\")\n",
    "print(feature_names[:20])\n",
    "print(f\"\\nSample features (last 20):\")\n",
    "print(feature_names[-20:])"
   ]
  },
  {
   "cell_type": "code",
   "execution_count": null,
   "id": "fb18dd3a",
   "metadata": {},
   "outputs": [],
   "source": [
    "# Analyze top TF-IDF features\n",
    "# Convert sparse matrix to dense for analysis (only for small datasets)\n",
    "if X_tfidf.shape[1] <= 1000:  # Only if manageable size\n",
    "    # Get mean TF-IDF scores for each feature\n",
    "    mean_tfidf_scores = np.array(X_tfidf.mean(axis=0)).flatten()\n",
    "    \n",
    "    # Create a DataFrame for analysis\n",
    "    feature_importance_df = pd.DataFrame({\n",
    "        'feature': feature_names,\n",
    "        'mean_tfidf': mean_tfidf_scores\n",
    "    }).sort_values('mean_tfidf', ascending=False)\n",
    "    \n",
    "    print(\"Top 15 features by mean TF-IDF score:\")\n",
    "    print(feature_importance_df.head(15))\n",
    "    \n",
    "    # Visualize top features\n",
    "    plt.figure(figsize=(12, 6))\n",
    "    top_features = feature_importance_df.head(15)\n",
    "    plt.barh(range(len(top_features)), top_features['mean_tfidf'])\n",
    "    plt.yticks(range(len(top_features)), top_features['feature'])\n",
    "    plt.xlabel('Mean TF-IDF Score')\n",
    "    plt.title('Top 15 Features by Mean TF-IDF Score')\n",
    "    plt.gca().invert_yaxis()\n",
    "    plt.tight_layout()\n",
    "    plt.show()\n",
    "else:\n",
    "    print(\"Feature matrix too large for detailed analysis. Skipping feature importance calculation.\")"
   ]
  },
  {
   "cell_type": "markdown",
   "id": "fe23565e",
   "metadata": {},
   "source": [
    "## Compare TF-IDF vs Count Vectorization"
   ]
  },
  {
   "cell_type": "code",
   "execution_count": null,
   "id": "a75681e7",
   "metadata": {},
   "outputs": [],
   "source": [
    "# Also create Count Vectorizer for comparison\n",
    "count_vectorizer = CountVectorizer(\n",
    "    max_features=1000,\n",
    "    min_df=2,\n",
    "    max_df=0.8,\n",
    "    ngram_range=(1, 2),\n",
    "    lowercase=True\n",
    ")\n",
    "\n",
    "# Fit and transform with Count Vectorizer\n",
    "X_count = count_vectorizer.fit_transform(df['cleaned_review'])\n",
    "\n",
    "print(\"Count Vectorization Results:\")\n",
    "print(f\"✓ Count matrix shape: {X_count.shape}\")\n",
    "print(f\"✓ Matrix sparsity: {1 - (X_count.nnz / (X_count.shape[0] * X_count.shape[1])):.3f}\")\n",
    "\n",
    "# Compare vocabulary overlap\n",
    "tfidf_vocab = set(tfidf_vectorizer.get_feature_names_out())\n",
    "count_vocab = set(count_vectorizer.get_feature_names_out())\n",
    "overlap = len(tfidf_vocab.intersection(count_vocab))\n",
    "\n",
    "print(f\"\\nVocabulary Comparison:\")\n",
    "print(f\"TF-IDF vocabulary size: {len(tfidf_vocab)}\")\n",
    "print(f\"Count vocabulary size: {len(count_vocab)}\")\n",
    "print(f\"Vocabulary overlap: {overlap} features ({overlap/len(tfidf_vocab)*100:.1f}%)\")"
   ]
  },
  {
   "cell_type": "markdown",
   "id": "fdcc77e1",
   "metadata": {},
   "source": [
    "## Split Data for Model Training"
   ]
  },
  {
   "cell_type": "code",
   "execution_count": null,
   "id": "a7111cca",
   "metadata": {},
   "outputs": [],
   "source": [
    "# Split the data into training and testing sets\n",
    "X_train_tfidf, X_test_tfidf, y_train, y_test = train_test_split(\n",
    "    X_tfidf, y, test_size=0.2, random_state=42, stratify=y\n",
    ")\n",
    "\n",
    "X_train_count, X_test_count, _, _ = train_test_split(\n",
    "    X_count, y, test_size=0.2, random_state=42, stratify=y\n",
    ")\n",
    "\n",
    "print(\"Data split completed:\")\n",
    "print(f\"Training set - TF-IDF: {X_train_tfidf.shape}, Count: {X_train_count.shape}\")\n",
    "print(f\"Test set - TF-IDF: {X_test_tfidf.shape}, Count: {X_test_count.shape}\")\n",
    "print(f\"Training labels: {y_train.shape}\")\n",
    "print(f\"Test labels: {y_test.shape}\")\n",
    "\n",
    "# Check class distribution in splits\n",
    "print(f\"\\nTraining set sentiment distribution:\")\n",
    "print(pd.Series(y_train).value_counts())\n",
    "print(f\"\\nTest set sentiment distribution:\")\n",
    "print(pd.Series(y_test).value_counts())"
   ]
  },
  {
   "cell_type": "markdown",
   "id": "2cf8aaf0",
   "metadata": {},
   "source": [
    "## Save Processed Features"
   ]
  },
  {
   "cell_type": "code",
   "execution_count": null,
   "id": "d5527bb3",
   "metadata": {},
   "outputs": [],
   "source": [
    "# Save the vectorizers and processed data for next steps\n",
    "import pickle\n",
    "import os\n",
    "\n",
    "# Create results directory if it doesn't exist\n",
    "os.makedirs('../results', exist_ok=True)\n",
    "\n",
    "# Save vectorizers\n",
    "with open('../results/tfidf_vectorizer.pkl', 'wb') as f:\n",
    "    pickle.dump(tfidf_vectorizer, f)\n",
    "\n",
    "with open('../results/count_vectorizer.pkl', 'wb') as f:\n",
    "    pickle.dump(count_vectorizer, f)\n",
    "\n",
    "# Save processed arrays\n",
    "np.save('../results/X_train_tfidf.npy', X_train_tfidf.toarray())\n",
    "np.save('../results/X_test_tfidf.npy', X_test_tfidf.toarray())\n",
    "np.save('../results/X_train_count.npy', X_train_count.toarray())\n",
    "np.save('../results/X_test_count.npy', X_test_count.toarray())\n",
    "np.save('../results/y_train.npy', y_train)\n",
    "np.save('../results/y_test.npy', y_test)\n",
    "\n",
    "print(\"✓ Vectorizers saved to results/\")\n",
    "print(\"✓ Processed feature matrices saved to results/\")\n",
    "print(\"✓ Train/test splits saved to results/\")\n",
    "\n",
    "# Save feature names for reference\n",
    "feature_info = {\n",
    "    'tfidf_features': feature_names.tolist(),\n",
    "    'count_features': count_vectorizer.get_feature_names_out().tolist(),\n",
    "    'feature_matrix_shape': X_tfidf.shape,\n",
    "    'train_test_split': {\n",
    "        'test_size': 0.2,\n",
    "        'random_state': 42,\n",
    "        'stratify': True\n",
    "    }\n",
    "}\n",
    "\n",
    "with open('../results/feature_info.pkl', 'wb') as f:\n",
    "    pickle.dump(feature_info, f)\n",
    "\n",
    "print(\"✓ Feature information saved\")"
   ]
  },
  {
   "cell_type": "code",
   "execution_count": null,
   "id": "40cb73e2",
   "metadata": {},
   "outputs": [],
   "source": [
    "# Summary of feature extraction step\n",
    "print(\"\\n=== FEATURE EXTRACTION COMPLETED ===\")\n",
    "print(\"✓ TF-IDF vectorization applied successfully\")\n",
    "print(\"✓ Count vectorization applied for comparison\")\n",
    "print(\"✓ Feature matrix created with 1000 features\")\n",
    "print(\"✓ Data split into train/test sets (80/20)\")\n",
    "print(\"✓ All processed data saved for model training\")\n",
    "print(f\"✓ Ready for training with {X_train_tfidf.shape[0]} training samples\")\n",
    "print(\"\\nNext: Model training with Logistic Regression and Naive Bayes\")"
   ]
  }
 ],
 "metadata": {
  "language_info": {
   "name": "python"
  }
 },
 "nbformat": 4,
 "nbformat_minor": 5
}
